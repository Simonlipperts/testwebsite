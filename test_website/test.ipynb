{
 "cells": [
  {
   "cell_type": "code",
   "execution_count": null,
   "id": "73a4010b",
   "metadata": {},
   "outputs": [],
   "source": [
    "#er moet een bevestigingsemail gestuurd na registratie\n",
    "\n",
    "#sign up en in data input uitbreiden\n",
    "\n",
    "#verbinden met web socket van yahoo finance\n",
    "\n",
    "#database logic uittekenen van portfolio van users\n",
    "\n",
    "#404 abord error importeren van flask\n",
    "\n",
    "#make not accesible via smartphone\n",
    "\n",
    "'''first_name: whatever you want,\n",
    "last_name: whatever you want,\n",
    "age: whatever you want, if below zero or above 80 you know it's bad data,\n",
    "field of study: whatever you want\n",
    "email: wrong email will not send out email verification thus what ever you want,\n",
    "password: whatever you want,\n",
    "repeat_password: has to be the same as password\n",
    "\n",
    "log in with first name, last name and password\n",
    "'''\n",
    "\n",
    "# html email maken\n",
    "\n",
    "# ervoor zorgen dat men niet zomaar inneens naar de /simulation route kan gaan zonder in te loggen\n",
    "\n",
    "# ervoor zorgen dat men enkel kan inloggen als email confirmed op True staat\n",
    "\n",
    "#jinja2, javascript dom events onderzoeken\n",
    "\n",
    "#put trading hours nipped in there instead of clock"
   ]
  },
  {
   "cell_type": "code",
   "execution_count": 12,
   "id": "0ad16782",
   "metadata": {},
   "outputs": [
    {
     "ename": "NameError",
     "evalue": "name 'flask_sqlalchemy' is not defined",
     "output_type": "error",
     "traceback": [
      "\u001b[1;31m---------------------------------------------------------------------------\u001b[0m",
      "\u001b[1;31mNameError\u001b[0m                                 Traceback (most recent call last)",
      "Cell \u001b[1;32mIn[12], line 2\u001b[0m\n\u001b[0;32m      1\u001b[0m \u001b[38;5;28;01mfrom\u001b[39;00m \u001b[38;5;21;01mflask_sqlalchemy\u001b[39;00m \u001b[38;5;28;01mimport\u001b[39;00m SQLAlchemy\n\u001b[1;32m----> 2\u001b[0m \u001b[38;5;28mprint\u001b[39m(flask_sqlalchemy\u001b[38;5;241m.\u001b[39m__version__)\n\u001b[0;32m      3\u001b[0m \u001b[38;5;28;01mimport\u001b[39;00m \u001b[38;5;21;01mpsycopg2\u001b[39;00m\n\u001b[0;32m      4\u001b[0m \u001b[38;5;28mprint\u001b[39m(psycopg2\u001b[38;5;241m.\u001b[39m__version__)\n",
      "\u001b[1;31mNameError\u001b[0m: name 'flask_sqlalchemy' is not defined"
     ]
    }
   ],
   "source": [
    "from flask_sqlalchemy import SQLAlchemy\n",
    "print(flask_sqlalchemy.__version__)\n",
    "import psycopg2\n",
    "print(psycopg2.__version__)"
   ]
  },
  {
   "cell_type": "code",
   "execution_count": 5,
   "id": "c7ea7249",
   "metadata": {},
   "outputs": [],
   "source": [
    "import pymysql"
   ]
  },
  {
   "cell_type": "code",
   "execution_count": 6,
   "id": "7e116b49",
   "metadata": {},
   "outputs": [],
   "source": [
    "(first_name_signup, last_name_signup, age_signup, study_signup, email_signup, password_signup, repeat_password_signup) = ('simon',\n",
    "                                                                                                                          'lipje',\n",
    "                                                                                                                          '7',\n",
    "                                                                                                                          'hirb',\n",
    "                                                                                                                          'simon.lipperts20@gmail.com',\n",
    "                                                                                                                          'ditispoep',\n",
    "                                                                                                                          'ditispoep')"
   ]
  },
  {
   "cell_type": "code",
   "execution_count": 8,
   "id": "f01c56db",
   "metadata": {},
   "outputs": [],
   "source": [
    "db = pymysql.connect(\n",
    "    host='localhost',\n",
    "    database='simulation',\n",
    "    user='root',\n",
    "    password='CocacolC123!'\n",
    ")\n",
    "cur = db.cursor()\n",
    "cur.execute('INSERT INTO INVESTORS (first_name, last_name, age, study, email, password, repeat_password) \\\n",
    "                        VALUES (%s, %s, %s, %s, %s, %s, %s)',(first_name_signup, last_name_signup, age_signup, study_signup, \\\n",
    "                                                                email_signup, password_signup, repeat_password_signup))\n",
    "db.commit()"
   ]
  }
 ],
 "metadata": {
  "kernelspec": {
   "display_name": "base",
   "language": "python",
   "name": "python3"
  },
  "language_info": {
   "codemirror_mode": {
    "name": "ipython",
    "version": 3
   },
   "file_extension": ".py",
   "mimetype": "text/x-python",
   "name": "python",
   "nbconvert_exporter": "python",
   "pygments_lexer": "ipython3",
   "version": "3.12.4"
  }
 },
 "nbformat": 4,
 "nbformat_minor": 5
}
