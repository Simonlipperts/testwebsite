{
 "cells": [
  {
   "cell_type": "code",
   "execution_count": null,
   "id": "73a4010b",
   "metadata": {},
   "outputs": [],
   "source": [
    "#er moet een bevestigingsemail gestuurd na registratie\n",
    "\n",
    "#sign up en in data input uitbreiden\n",
    "\n",
    "#verbinden met web socket van yahoo finance\n",
    "\n",
    "#database logic uittekenen van portfolio van users\n",
    "\n",
    "#404 abord error importeren van flask\n",
    "\n",
    "#make not accesible via smartphone\n",
    "\n",
    "'''first_name: whatever you want,\n",
    "last_name: whatever you want,\n",
    "age: whatever you want, if below zero or above 80 you know it's bad data,\n",
    "field of study: whatever you want\n",
    "email: wrong email will not send out email verification thus what ever you want,\n",
    "password: whatever you want,\n",
    "repeat_password: has to be the same as password\n",
    "\n",
    "log in with first name, last name and password\n",
    "'''\n",
    "\n",
    "# html email maken\n",
    "\n",
    "# ervoor zorgen dat men niet zomaar inneens naar de /simulation route kan gaan zonder in te loggen\n",
    "\n",
    "# ervoor zorgen dat men enkel kan inloggen als email confirmed op True staat\n",
    "\n",
    "#jinja2, javascript dom events onderzoeken\n",
    "\n",
    "#put trading hours nipped in there instead of clock"
   ]
  },
  {
   "cell_type": "code",
   "execution_count": null,
   "id": "6191a808",
   "metadata": {},
   "outputs": [],
   "source": [
    "'''iemand is aan het kijken naar een aandeel daarvan wordt telkens enkel de meest recente prijs bijgehouden\n",
    "via het order entry systeem wordt dit aandeel aangekocht, de cashpositie en de portfolio waarde worden aangepast\n",
    "de positie wordt toegevoegd aan de portfolio's tabel met de aankoopprijs\n",
    "er wordt gekeken of dat het aandeel al in de stocks tabel zit zo niet wordt deze hieraan toegevoegd en wordt vanaf \n",
    "nu om de 1 minuut beginnend met de aankoopprijs de huidige prijs van dat aandeel toegevoegd \n",
    "aan de stock prices tabel tenzij het aandeel al in de stocks tabel zat\n",
    "alle huidige/laatste portfolio waardes worden berekend om de minuut, van alle posities moet de huidige prijs worden \n",
    "opgehaald via de stock prices tabel en moeten per portfolio de posities worden opgeteld\n",
    "als iemand een aandeel verkoopt moet worden gekeken of dat nog een ander user dit aandeel in zijn portfolio had, zo ja moet de verkoopprijs enkel opgehaald worden om de cashpositie en portfolio waarde aan te passen. Zo niet dan wordt het ook uit de stocks tabel gehaald waardoor ook niet meer de laatste prijzen worden opgehaald'''\n",
    "\n"
   ]
  },
  {
   "cell_type": "code",
   "execution_count": 1,
   "id": "b6fede16",
   "metadata": {},
   "outputs": [
    {
     "name": "stdout",
     "output_type": "stream",
     "text": [
      "Collecting flask_mail\n",
      "  Downloading flask_mail-0.10.0-py3-none-any.whl.metadata (2.1 kB)\n",
      "Requirement already satisfied: flask in c:\\users\\simon\\anaconda3\\lib\\site-packages (from flask_mail) (3.0.3)\n",
      "Requirement already satisfied: blinker in c:\\users\\simon\\anaconda3\\lib\\site-packages (from flask_mail) (1.6.2)\n",
      "Requirement already satisfied: Werkzeug>=3.0.0 in c:\\users\\simon\\anaconda3\\lib\\site-packages (from flask->flask_mail) (3.0.3)\n",
      "Requirement already satisfied: Jinja2>=3.1.2 in c:\\users\\simon\\anaconda3\\lib\\site-packages (from flask->flask_mail) (3.1.4)\n",
      "Requirement already satisfied: itsdangerous>=2.1.2 in c:\\users\\simon\\anaconda3\\lib\\site-packages (from flask->flask_mail) (2.2.0)\n",
      "Requirement already satisfied: click>=8.1.3 in c:\\users\\simon\\anaconda3\\lib\\site-packages (from flask->flask_mail) (8.1.7)\n",
      "Requirement already satisfied: colorama in c:\\users\\simon\\appdata\\roaming\\python\\python312\\site-packages (from click>=8.1.3->flask->flask_mail) (0.4.6)\n",
      "Requirement already satisfied: MarkupSafe>=2.0 in c:\\users\\simon\\anaconda3\\lib\\site-packages (from Jinja2>=3.1.2->flask->flask_mail) (2.1.3)\n",
      "Downloading flask_mail-0.10.0-py3-none-any.whl (8.5 kB)\n",
      "Installing collected packages: flask_mail\n",
      "Successfully installed flask_mail-0.10.0\n",
      "Note: you may need to restart the kernel to use updated packages.\n"
     ]
    }
   ],
   "source": [
    "%pip install flask_mail"
   ]
  },
  {
   "cell_type": "code",
   "execution_count": 3,
   "id": "80749bd8",
   "metadata": {},
   "outputs": [
    {
     "name": "stdout",
     "output_type": "stream",
     "text": [
      "26\n"
     ]
    }
   ],
   "source": [
    "study = 'simon.lipperts20@gmail.com'\n",
    "print(len(study))"
   ]
  },
  {
   "cell_type": "code",
   "execution_count": 6,
   "id": "d6324da0",
   "metadata": {},
   "outputs": [
    {
     "name": "stdout",
     "output_type": "stream",
     "text": [
      "[5, 3]\n"
     ]
    }
   ],
   "source": [
    "lijst = [5, 3]\n",
    "print([element for element in lijst])"
   ]
  },
  {
   "cell_type": "code",
   "execution_count": 7,
   "id": "0ad16782",
   "metadata": {},
   "outputs": [
    {
     "name": "stdout",
     "output_type": "stream",
     "text": [
      "Requirement already satisfied: itsdangerous in c:\\users\\simon\\anaconda3\\lib\\site-packages (2.2.0)\n",
      "Note: you may need to restart the kernel to use updated packages.\n"
     ]
    }
   ],
   "source": [
    "%pip install itsdangerous"
   ]
  },
  {
   "cell_type": "code",
   "execution_count": 11,
   "id": "15e39f41",
   "metadata": {},
   "outputs": [],
   "source": [
    "from itsdangerous import URLSafeTimedSerializer, SignatureExpired\n",
    "from flask import url_for\n",
    "from flask_mail import Mail, Message"
   ]
  },
  {
   "cell_type": "code",
   "execution_count": 13,
   "id": "018d525e",
   "metadata": {},
   "outputs": [
    {
     "ename": "NameError",
     "evalue": "name 'app' is not defined",
     "output_type": "error",
     "traceback": [
      "\u001b[1;31m---------------------------------------------------------------------------\u001b[0m",
      "\u001b[1;31mNameError\u001b[0m                                 Traceback (most recent call last)",
      "Cell \u001b[1;32mIn[13], line 1\u001b[0m\n\u001b[1;32m----> 1\u001b[0m \u001b[43mapp\u001b[49m\u001b[38;5;241m.\u001b[39mconfig[\u001b[38;5;124m'\u001b[39m\u001b[38;5;124mMAIL_SERVER\u001b[39m\u001b[38;5;124m'\u001b[39m] \u001b[38;5;241m=\u001b[39m \u001b[38;5;124m'\u001b[39m\u001b[38;5;124msmtp.gmail.com\u001b[39m\u001b[38;5;124m'\u001b[39m\n\u001b[0;32m      2\u001b[0m app\u001b[38;5;241m.\u001b[39mconfig[\u001b[38;5;124m'\u001b[39m\u001b[38;5;124mMAIL_PORT\u001b[39m\u001b[38;5;124m'\u001b[39m] \u001b[38;5;241m=\u001b[39m \u001b[38;5;241m587\u001b[39m\n\u001b[0;32m      3\u001b[0m app\u001b[38;5;241m.\u001b[39mconfig[\u001b[38;5;124m'\u001b[39m\u001b[38;5;124mMAIL_USE_TLS\u001b[39m\u001b[38;5;124m'\u001b[39m] \u001b[38;5;241m=\u001b[39m \u001b[38;5;28;01mFalse\u001b[39;00m\n",
      "\u001b[1;31mNameError\u001b[0m: name 'app' is not defined"
     ]
    }
   ],
   "source": [
    "app.config['MAIL_SERVER'] = 'smtp.gmail.com'\n",
    "app.config['MAIL_PORT'] = 587\n",
    "app.config['MAIL_USE_TLS'] = False\n",
    "app.config['MAIL_USE_SSL'] = True\n",
    "app.config['MAIL_USERNAME'] = 'simon.lipperts20@gmail.com' \n",
    "app.config['MAIL_PASSWORD'] = 'Coca colC1' \n",
    "mail = Mail(app)"
   ]
  },
  {
   "cell_type": "code",
   "execution_count": null,
   "id": "71528a45",
   "metadata": {},
   "outputs": [
    {
     "ename": "RuntimeError",
     "evalue": "Working outside of application context.\n\nThis typically means that you attempted to use functionality that needed\nthe current application. To solve this, set up an application context\nwith app.app_context(). See the documentation for more information.",
     "output_type": "error",
     "traceback": [
      "\u001b[1;31m---------------------------------------------------------------------------\u001b[0m",
      "\u001b[1;31mRuntimeError\u001b[0m                              Traceback (most recent call last)",
      "Cell \u001b[1;32mIn[12], line 5\u001b[0m\n\u001b[0;32m      2\u001b[0m token \u001b[38;5;241m=\u001b[39m s\u001b[38;5;241m.\u001b[39mdumps(\u001b[38;5;124m'\u001b[39m\u001b[38;5;124msimon.lipperts20@gmail.com\u001b[39m\u001b[38;5;124m'\u001b[39m, salt \u001b[38;5;241m=\u001b[39m \u001b[38;5;124m'\u001b[39m\u001b[38;5;124memail-confirm\u001b[39m\u001b[38;5;124m'\u001b[39m)\n\u001b[0;32m      3\u001b[0m msg \u001b[38;5;241m=\u001b[39m Message(\u001b[38;5;124m'\u001b[39m\u001b[38;5;124mCongrats, you are almost there! Just confirm your email by pressing this link and then you are ready to go!\u001b[39m\u001b[38;5;124m'\u001b[39m, \\\n\u001b[0;32m      4\u001b[0m     sender\u001b[38;5;241m=\u001b[39m\u001b[38;5;124m'\u001b[39m\u001b[38;5;124msimon.lipperts20@gmail.com\u001b[39m\u001b[38;5;124m'\u001b[39m, recipients\u001b[38;5;241m=\u001b[39m[\u001b[38;5;124m'\u001b[39m\u001b[38;5;124msimon.slenterprises@gmail.com\u001b[39m\u001b[38;5;124m'\u001b[39m])\n\u001b[1;32m----> 5\u001b[0m link \u001b[38;5;241m=\u001b[39m \u001b[43murl_for\u001b[49m\u001b[43m(\u001b[49m\u001b[38;5;124;43m'\u001b[39;49m\u001b[38;5;124;43mconfirm_email\u001b[39;49m\u001b[38;5;124;43m'\u001b[39;49m\u001b[43m,\u001b[49m\u001b[43m \u001b[49m\u001b[43mtoken\u001b[49m\u001b[38;5;241;43m=\u001b[39;49m\u001b[43mtoken\u001b[49m\u001b[43m,\u001b[49m\u001b[43m \u001b[49m\u001b[43mexternal\u001b[49m\u001b[38;5;241;43m=\u001b[39;49m\u001b[38;5;28;43;01mTrue\u001b[39;49;00m\u001b[43m)\u001b[49m\n\u001b[0;32m      6\u001b[0m msg\u001b[38;5;241m.\u001b[39mbody \u001b[38;5;241m=\u001b[39m \u001b[38;5;124m'\u001b[39m\u001b[38;5;124mYour link is\u001b[39m\u001b[38;5;124m'\u001b[39m, link\n\u001b[0;32m      7\u001b[0m \u001b[38;5;28mprint\u001b[39m(token)\n",
      "File \u001b[1;32mc:\\Users\\simon\\anaconda3\\Lib\\site-packages\\flask\\helpers.py:220\u001b[0m, in \u001b[0;36murl_for\u001b[1;34m(endpoint, _anchor, _method, _scheme, _external, **values)\u001b[0m\n\u001b[0;32m    176\u001b[0m \u001b[38;5;28;01mdef\u001b[39;00m \u001b[38;5;21murl_for\u001b[39m(\n\u001b[0;32m    177\u001b[0m     endpoint: \u001b[38;5;28mstr\u001b[39m,\n\u001b[0;32m    178\u001b[0m     \u001b[38;5;241m*\u001b[39m,\n\u001b[1;32m   (...)\u001b[0m\n\u001b[0;32m    183\u001b[0m     \u001b[38;5;241m*\u001b[39m\u001b[38;5;241m*\u001b[39mvalues: t\u001b[38;5;241m.\u001b[39mAny,\n\u001b[0;32m    184\u001b[0m ) \u001b[38;5;241m-\u001b[39m\u001b[38;5;241m>\u001b[39m \u001b[38;5;28mstr\u001b[39m:\n\u001b[0;32m    185\u001b[0m \u001b[38;5;250m    \u001b[39m\u001b[38;5;124;03m\"\"\"Generate a URL to the given endpoint with the given values.\u001b[39;00m\n\u001b[0;32m    186\u001b[0m \n\u001b[0;32m    187\u001b[0m \u001b[38;5;124;03m    This requires an active request or application context, and calls\u001b[39;00m\n\u001b[1;32m   (...)\u001b[0m\n\u001b[0;32m    218\u001b[0m \u001b[38;5;124;03m       Calls ``app.handle_url_build_error`` on build errors.\u001b[39;00m\n\u001b[0;32m    219\u001b[0m \u001b[38;5;124;03m    \"\"\"\u001b[39;00m\n\u001b[1;32m--> 220\u001b[0m     \u001b[38;5;28;01mreturn\u001b[39;00m \u001b[43mcurrent_app\u001b[49m\u001b[38;5;241;43m.\u001b[39;49m\u001b[43murl_for\u001b[49m(\n\u001b[0;32m    221\u001b[0m         endpoint,\n\u001b[0;32m    222\u001b[0m         _anchor\u001b[38;5;241m=\u001b[39m_anchor,\n\u001b[0;32m    223\u001b[0m         _method\u001b[38;5;241m=\u001b[39m_method,\n\u001b[0;32m    224\u001b[0m         _scheme\u001b[38;5;241m=\u001b[39m_scheme,\n\u001b[0;32m    225\u001b[0m         _external\u001b[38;5;241m=\u001b[39m_external,\n\u001b[0;32m    226\u001b[0m         \u001b[38;5;241m*\u001b[39m\u001b[38;5;241m*\u001b[39mvalues,\n\u001b[0;32m    227\u001b[0m     )\n",
      "File \u001b[1;32mc:\\Users\\simon\\anaconda3\\Lib\\site-packages\\werkzeug\\local.py:318\u001b[0m, in \u001b[0;36m_ProxyLookup.__get__\u001b[1;34m(self, instance, owner)\u001b[0m\n\u001b[0;32m    315\u001b[0m     \u001b[38;5;28;01mreturn\u001b[39;00m \u001b[38;5;28mself\u001b[39m\n\u001b[0;32m    317\u001b[0m \u001b[38;5;28;01mtry\u001b[39;00m:\n\u001b[1;32m--> 318\u001b[0m     obj \u001b[38;5;241m=\u001b[39m \u001b[43minstance\u001b[49m\u001b[38;5;241;43m.\u001b[39;49m\u001b[43m_get_current_object\u001b[49m\u001b[43m(\u001b[49m\u001b[43m)\u001b[49m\n\u001b[0;32m    319\u001b[0m \u001b[38;5;28;01mexcept\u001b[39;00m \u001b[38;5;167;01mRuntimeError\u001b[39;00m:\n\u001b[0;32m    320\u001b[0m     \u001b[38;5;28;01mif\u001b[39;00m \u001b[38;5;28mself\u001b[39m\u001b[38;5;241m.\u001b[39mfallback \u001b[38;5;129;01mis\u001b[39;00m \u001b[38;5;28;01mNone\u001b[39;00m:\n",
      "File \u001b[1;32mc:\\Users\\simon\\anaconda3\\Lib\\site-packages\\werkzeug\\local.py:519\u001b[0m, in \u001b[0;36mLocalProxy.__init__.<locals>._get_current_object\u001b[1;34m()\u001b[0m\n\u001b[0;32m    517\u001b[0m     obj \u001b[38;5;241m=\u001b[39m local\u001b[38;5;241m.\u001b[39mget()\n\u001b[0;32m    518\u001b[0m \u001b[38;5;28;01mexcept\u001b[39;00m \u001b[38;5;167;01mLookupError\u001b[39;00m:\n\u001b[1;32m--> 519\u001b[0m     \u001b[38;5;28;01mraise\u001b[39;00m \u001b[38;5;167;01mRuntimeError\u001b[39;00m(unbound_message) \u001b[38;5;28;01mfrom\u001b[39;00m \u001b[38;5;28;01mNone\u001b[39;00m\n\u001b[0;32m    521\u001b[0m \u001b[38;5;28;01mreturn\u001b[39;00m get_name(obj)\n",
      "\u001b[1;31mRuntimeError\u001b[0m: Working outside of application context.\n\nThis typically means that you attempted to use functionality that needed\nthe current application. To solve this, set up an application context\nwith app.app_context(). See the documentation for more information."
     ]
    }
   ],
   "source": [
    "s = URLSafeTimedSerializer('ThisIsASectret!')\n",
    "token = s.dumps('simon.lipperts20@gmail.com', salt = 'email-confirm')\n",
    "msg = Message('Congrats, you are almost there! Just confirm your email by pressing this link and then you are ready to go!', \\\n",
    "    sender='simon.lipperts20@gmail.com', recipients=['simon.slenterprises@gmail.com'])\n",
    "link = url_for('confirm_email', token=token, _external=True)\n",
    "msg.body = 'Your link is', link\n",
    "mail.send(msg)\n",
    "print(token)"
   ]
  }
 ],
 "metadata": {
  "kernelspec": {
   "display_name": "base",
   "language": "python",
   "name": "python3"
  },
  "language_info": {
   "codemirror_mode": {
    "name": "ipython",
    "version": 3
   },
   "file_extension": ".py",
   "mimetype": "text/x-python",
   "name": "python",
   "nbconvert_exporter": "python",
   "pygments_lexer": "ipython3",
   "version": "3.12.4"
  }
 },
 "nbformat": 4,
 "nbformat_minor": 5
}
