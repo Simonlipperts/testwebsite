{
 "cells": [
  {
   "cell_type": "code",
   "execution_count": null,
   "id": "73a4010b",
   "metadata": {},
   "outputs": [],
   "source": [
    "#er moet een bevestigingsemail gestuurd na registratie\n",
    "\n",
    "#sign up en in data input uitbreiden\n",
    "\n",
    "#verbinden met web socket van yahoo finance\n",
    "\n",
    "#database logic uittekenen van portfolio van users\n",
    "\n",
    "#404 abord error importeren van flask\n",
    "\n",
    "#make not accesible via smartphone\n",
    "\n",
    "'''first_name: whatever you want,\n",
    "last_name: whatever you want,\n",
    "age: whatever you want, if below zero or above 80 you know it's bad data,\n",
    "field of study: whatever you want\n",
    "email: wrong email will not send out email verification thus what ever you want,\n",
    "password: whatever you want,\n",
    "repeat_password: has to be the same as password\n",
    "\n",
    "log in with first name, last name and password\n",
    "'''\n",
    "\n",
    "# html email maken\n",
    "\n",
    "# ervoor zorgen dat men niet zomaar inneens naar de /simulation route kan gaan zonder in te loggen\n",
    "\n",
    "# ervoor zorgen dat men enkel kan inloggen als email confirmed op True staat\n",
    "\n",
    "#jinja2, javascript dom events onderzoeken\n",
    "\n",
    "#put trading hours nipped in there instead of clock"
   ]
  },
  {
   "cell_type": "code",
   "execution_count": 3,
   "id": "0ad16782",
   "metadata": {},
   "outputs": [
    {
     "name": "stdout",
     "output_type": "stream",
     "text": [
      "Collecting psycopg2\n",
      "  Downloading psycopg2-2.9.10-cp312-cp312-win_amd64.whl.metadata (5.0 kB)\n",
      "Downloading psycopg2-2.9.10-cp312-cp312-win_amd64.whl (1.2 MB)\n",
      "   ---------------------------------------- 0.0/1.2 MB ? eta -:--:--\n",
      "   ---------------------------------------- 0.0/1.2 MB ? eta -:--:--\n",
      "   ---------------------------------------- 0.0/1.2 MB ? eta -:--:--\n",
      "   -- ------------------------------------- 0.1/1.2 MB 825.8 kB/s eta 0:00:02\n",
      "   --------- ------------------------------ 0.3/1.2 MB 2.2 MB/s eta 0:00:01\n",
      "   --------------------------------- ------ 1.0/1.2 MB 5.6 MB/s eta 0:00:01\n",
      "   ---------------------------------------- 1.2/1.2 MB 5.7 MB/s eta 0:00:00\n",
      "Installing collected packages: psycopg2\n",
      "Successfully installed psycopg2-2.9.10\n",
      "Note: you may need to restart the kernel to use updated packages.\n"
     ]
    }
   ],
   "source": [
    "%pip install psycopg2"
   ]
  },
  {
   "cell_type": "code",
   "execution_count": 5,
   "id": "c7ea7249",
   "metadata": {},
   "outputs": [],
   "source": [
    "import pymysql"
   ]
  },
  {
   "cell_type": "code",
   "execution_count": 6,
   "id": "7e116b49",
   "metadata": {},
   "outputs": [],
   "source": [
    "(first_name_signup, last_name_signup, age_signup, study_signup, email_signup, password_signup, repeat_password_signup) = ('simon',\n",
    "                                                                                                                          'lipje',\n",
    "                                                                                                                          '7',\n",
    "                                                                                                                          'hirb',\n",
    "                                                                                                                          'simon.lipperts20@gmail.com',\n",
    "                                                                                                                          'ditispoep',\n",
    "                                                                                                                          'ditispoep')"
   ]
  },
  {
   "cell_type": "code",
   "execution_count": 8,
   "id": "f01c56db",
   "metadata": {},
   "outputs": [],
   "source": [
    "db = pymysql.connect(\n",
    "    host='localhost',\n",
    "    database='simulation',\n",
    "    user='root',\n",
    "    password='CocacolC123!'\n",
    ")\n",
    "cur = db.cursor()\n",
    "cur.execute('INSERT INTO INVESTORS (first_name, last_name, age, study, email, password, repeat_password) \\\n",
    "                        VALUES (%s, %s, %s, %s, %s, %s, %s)',(first_name_signup, last_name_signup, age_signup, study_signup, \\\n",
    "                                                                email_signup, password_signup, repeat_password_signup))\n",
    "db.commit()"
   ]
  }
 ],
 "metadata": {
  "kernelspec": {
   "display_name": "base",
   "language": "python",
   "name": "python3"
  },
  "language_info": {
   "codemirror_mode": {
    "name": "ipython",
    "version": 3
   },
   "file_extension": ".py",
   "mimetype": "text/x-python",
   "name": "python",
   "nbconvert_exporter": "python",
   "pygments_lexer": "ipython3",
   "version": "3.12.4"
  }
 },
 "nbformat": 4,
 "nbformat_minor": 5
}
