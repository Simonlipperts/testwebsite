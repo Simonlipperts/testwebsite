{
 "cells": [
  {
   "cell_type": "code",
   "execution_count": 3,
   "id": "ce90d59d",
   "metadata": {},
   "outputs": [
    {
     "data": {
      "text/plain": [
       "'1.4.6'"
      ]
     },
     "execution_count": 3,
     "metadata": {},
     "output_type": "execute_result"
    }
   ],
   "source": [
    "import pymysql\n",
    "pymysql.__version__"
   ]
  },
  {
   "cell_type": "code",
   "execution_count": 4,
   "id": "0b19e160",
   "metadata": {},
   "outputs": [
    {
     "name": "stdout",
     "output_type": "stream",
     "text": [
      "<pymysql.connections.Connection object at 0x0000021D6BAC4DA0>\n",
      "<pymysql.cursors.Cursor object at 0x0000021D6B8F8CB0>\n"
     ]
    }
   ],
   "source": [
    "db = pymysql.connect(\n",
    "    host='localhost', \n",
    "    user='root', \n",
    "    password='CocacolC123!',\n",
    "    database='trading_sim'\n",
    ")\n",
    "print(db)\n",
    "\n",
    "cur = db.cursor()\n",
    "print(cur)"
   ]
  },
  {
   "cell_type": "code",
   "execution_count": null,
   "id": "5927814d",
   "metadata": {},
   "outputs": [
    {
     "name": "stdout",
     "output_type": "stream",
     "text": [
      "('information_schema',)\n",
      "('mysql',)\n",
      "('performance_schema',)\n",
      "('sakila',)\n",
      "('sys',)\n",
      "('testdb',)\n",
      "('trading_sim',)\n",
      "('world',)\n",
      "\n",
      "('clients',)\n",
      "('users',)\n"
     ]
    }
   ],
   "source": [
    "#cur.execute('CREATE DATABASE testdb')\n",
    "cur.execute('SHOW DATABASES') #toont alle databases waar je toegang tot hebt op de mysql server ondanks connectie met trading_sim\n",
    "for base in cur:\n",
    "    print(base)\n",
    "print()\n",
    "\n",
    "#cur.execute('CREATE TABLE clients (name VARCHAR(25), age INT(4))')\n",
    "cur.execute('SHOW TABLES')\n",
    "for table in cur:\n",
    "    print(table)"
   ]
  },
  {
   "cell_type": "code",
   "execution_count": null,
   "id": "371a64f4",
   "metadata": {},
   "outputs": [],
   "source": [
    "#buitenste string moet met dubbele quotes\n",
    "cur.execute(\"INSERT INTO clients (name, age) VALUES ('bob', 13)\")\n",
    "db.commit()"
   ]
  },
  {
   "cell_type": "code",
   "execution_count": null,
   "id": "c2d06fd8",
   "metadata": {},
   "outputs": [
    {
     "name": "stdout",
     "output_type": "stream",
     "text": [
      "('name', 'varchar(25)', 'YES', '', None, '')\n",
      "('age', 'int', 'YES', '', None, '')\n"
     ]
    }
   ],
   "source": [
    "cur.execute(\"SHOW COLUMNS FROM CLIENTS\")\n",
    "columns = cur.fetchall() #alternatieve methode\n",
    "for column in columns:\n",
    "    print(column)"
   ]
  }
 ],
 "metadata": {
  "kernelspec": {
   "display_name": "base",
   "language": "python",
   "name": "python3"
  },
  "language_info": {
   "codemirror_mode": {
    "name": "ipython",
    "version": 3
   },
   "file_extension": ".py",
   "mimetype": "text/x-python",
   "name": "python",
   "nbconvert_exporter": "python",
   "pygments_lexer": "ipython3",
   "version": "3.12.4"
  }
 },
 "nbformat": 4,
 "nbformat_minor": 5
}
