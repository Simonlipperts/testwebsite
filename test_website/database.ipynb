{
 "cells": [
  {
   "cell_type": "code",
   "execution_count": 1,
   "id": "ce90d59d",
   "metadata": {},
   "outputs": [
    {
     "data": {
      "text/plain": [
       "'1.4.6'"
      ]
     },
     "execution_count": 1,
     "metadata": {},
     "output_type": "execute_result"
    }
   ],
   "source": [
    "import pymysql\n",
    "pymysql.__version__"
   ]
  },
  {
   "cell_type": "code",
   "execution_count": 2,
   "id": "0b19e160",
   "metadata": {},
   "outputs": [
    {
     "name": "stdout",
     "output_type": "stream",
     "text": [
      "<pymysql.connections.Connection object at 0x000001A81B39A9F0>\n",
      "<pymysql.cursors.Cursor object at 0x000001A81B2EEDB0>\n"
     ]
    }
   ],
   "source": [
    "db = pymysql.connect(\n",
    "    host='localhost', \n",
    "    user='root', \n",
    "    password='CocacolC123!',\n",
    "    database='trading_sim'\n",
    ")\n",
    "print(db)\n",
    "\n",
    "cur = db.cursor()\n",
    "print(cur)"
   ]
  },
  {
   "cell_type": "code",
   "execution_count": null,
   "id": "5927814d",
   "metadata": {},
   "outputs": [
    {
     "name": "stdout",
     "output_type": "stream",
     "text": [
      "('information_schema',)\n",
      "('mysql',)\n",
      "('performance_schema',)\n",
      "('sakila',)\n",
      "('sys',)\n",
      "('testdb',)\n",
      "('trading_sim',)\n",
      "('world',)\n",
      "\n",
      "('clients',)\n",
      "('users',)\n"
     ]
    }
   ],
   "source": [
    "#cur.execute('CREATE DATABASE testdb')\n",
    "cur.execute('SHOW DATABASES') #toont alle databases waar je toegang tot hebt op de mysql server ondanks connectie met trading_sim\n",
    "for base in cur:\n",
    "    print(base)\n",
    "print()\n",
    "\n",
    "#cur.execute('CREATE TABLE clients (name VARCHAR(25), age INT(4))')\n",
    "cur.execute('SHOW TABLES')\n",
    "for table in cur:\n",
    "    print(table)"
   ]
  },
  {
   "cell_type": "code",
   "execution_count": null,
   "id": "371a64f4",
   "metadata": {},
   "outputs": [],
   "source": [
    "#buitenste string moet met dubbele quotes\n",
    "cur.execute(\"INSERT INTO clients (name, age) VALUES ('bob', 13)\")\n",
    "db.commit()"
   ]
  },
  {
   "cell_type": "code",
   "execution_count": null,
   "id": "c2d06fd8",
   "metadata": {},
   "outputs": [
    {
     "name": "stdout",
     "output_type": "stream",
     "text": [
      "('name', 'varchar(25)', 'YES', '', None, '')\n",
      "('age', 'int', 'YES', '', None, '')\n"
     ]
    }
   ],
   "source": [
    "cur.execute(\"SHOW COLUMNS FROM CLIENTS\")\n",
    "columns = cur.fetchall() #alternatieve methode\n",
    "for column in columns:\n",
    "    print(column)"
   ]
  },
  {
   "cell_type": "code",
   "execution_count": 5,
   "id": "ed777bbb",
   "metadata": {},
   "outputs": [
    {
     "name": "stdout",
     "output_type": "stream",
     "text": [
      "('alice', 30)\n",
      "('bob', 13)\n",
      "('Simon', 5)\n",
      "('Simon', 6)\n",
      "('Jekke', 7)\n",
      "('Jekkkeeuh', 77)\n",
      "('RRooie', 77)\n"
     ]
    }
   ],
   "source": [
    "cur.execute('SELECT * FROM CLIENTS')\n",
    "lijst = []\n",
    "for row in cur:\n",
    "    lijst.append(row)\n",
    "    print(row)"
   ]
  },
  {
   "cell_type": "code",
   "execution_count": 10,
   "id": "ed42cb56",
   "metadata": {},
   "outputs": [
    {
     "name": "stdout",
     "output_type": "stream",
     "text": [
      "good boy!\n"
     ]
    }
   ],
   "source": [
    "if ('RRooie', 77) in lijst:\n",
    "    print('good boy!')\n",
    "else:\n",
    "    print('neinnnnn!')"
   ]
  },
  {
   "cell_type": "code",
   "execution_count": 13,
   "id": "39471756",
   "metadata": {},
   "outputs": [
    {
     "name": "stdout",
     "output_type": "stream",
     "text": [
      "yeah buddy!\n"
     ]
    }
   ],
   "source": [
    "cur.execute('SELECT * FROM CLIENTS WHERE name = %s AND age = %s', ('RRooie',77))\n",
    "\n",
    "if ('RRooie', 77) in cur:\n",
    "    print('yeah buddy!')"
   ]
  },
  {
   "cell_type": "code",
   "execution_count": 14,
   "id": "70c279b8",
   "metadata": {},
   "outputs": [],
   "source": [
    "import pymysql"
   ]
  },
  {
   "cell_type": "code",
   "execution_count": 17,
   "id": "03cb50fa",
   "metadata": {},
   "outputs": [],
   "source": [
    "db = pymysql.connect(\n",
    "    user='root',\n",
    "    database='trading_sim',\n",
    "    password='CocacolC123!',\n",
    "    host='localhost'\n",
    ")\n",
    "cur = db.cursor()"
   ]
  },
  {
   "cell_type": "code",
   "execution_count": null,
   "id": "75e6785f",
   "metadata": {},
   "outputs": [],
   "source": [
    "cur.execute('''\n",
    "    CREATE TABLE INVESTORS (\n",
    "    investor_ID INT UNSIGNED AUTO_INCREMENT PRIMARY KEY, \n",
    "    first_name VARCHAR(10), \n",
    "    last_name VARCHAR(10), \n",
    "    age INT(2),\n",
    "    study VARCHAR(30), \n",
    "    email VARCHAR(30), \n",
    "    password VARCHAR(25), \n",
    "    repeat_password VARCHAR(25)\n",
    "    )\n",
    "''')\n",
    "db.commit()"
   ]
  },
  {
   "cell_type": "code",
   "execution_count": null,
   "id": "c22db8bf",
   "metadata": {},
   "outputs": [],
   "source": []
  },
  {
   "cell_type": "code",
   "execution_count": 35,
   "id": "58c0de5f",
   "metadata": {},
   "outputs": [],
   "source": [
    "(first_name_signup, last_name_signup, age_signup, fieldOfStudy_signup, email_signup, password_signup, repeat_password_signup) = (\n",
    "    'Simon',\n",
    "    'Lipperts',\n",
    "    20,\n",
    "    'Hirb',\n",
    "    'simon.lipperts20@gmail.com',\n",
    "    'C13',\n",
    "    'C13'\n",
    ")"
   ]
  },
  {
   "cell_type": "code",
   "execution_count": null,
   "id": "05c77f89",
   "metadata": {},
   "outputs": [
    {
     "ename": "TypeError",
     "evalue": "%d format: a real number is required, not str",
     "output_type": "error",
     "traceback": [
      "\u001b[1;31m---------------------------------------------------------------------------\u001b[0m",
      "\u001b[1;31mTypeError\u001b[0m                                 Traceback (most recent call last)",
      "Cell \u001b[1;32mIn[36], line 1\u001b[0m\n\u001b[1;32m----> 1\u001b[0m \u001b[43mcur\u001b[49m\u001b[38;5;241;43m.\u001b[39;49m\u001b[43mexecute\u001b[49m\u001b[43m(\u001b[49m\u001b[38;5;124;43m'\u001b[39;49m\u001b[38;5;124;43mINSERT INTO INVESTORS (first_name, last_name, age, study, email, password, repeat_password) \u001b[39;49m\u001b[38;5;130;43;01m\\\u001b[39;49;00m\n\u001b[0;32m      2\u001b[0m \u001b[38;5;124;43m                        VALUES (\u001b[39;49m\u001b[38;5;132;43;01m%s\u001b[39;49;00m\u001b[38;5;124;43m, \u001b[39;49m\u001b[38;5;132;43;01m%s\u001b[39;49;00m\u001b[38;5;124;43m, \u001b[39;49m\u001b[38;5;132;43;01m%d\u001b[39;49;00m\u001b[38;5;124;43m, \u001b[39;49m\u001b[38;5;132;43;01m%s\u001b[39;49;00m\u001b[38;5;124;43m, \u001b[39;49m\u001b[38;5;132;43;01m%s\u001b[39;49;00m\u001b[38;5;124;43m, \u001b[39;49m\u001b[38;5;132;43;01m%s\u001b[39;49;00m\u001b[38;5;124;43m, \u001b[39;49m\u001b[38;5;132;43;01m%s\u001b[39;49;00m\u001b[38;5;124;43m)\u001b[39;49m\u001b[38;5;124;43m'\u001b[39;49m\u001b[43m,\u001b[49m\u001b[43m(\u001b[49m\u001b[43mfirst_name_signup\u001b[49m\u001b[43m,\u001b[49m\u001b[43m \u001b[49m\u001b[43mlast_name_signup\u001b[49m\u001b[43m,\u001b[49m\u001b[43m \u001b[49m\u001b[43mage_signup\u001b[49m\u001b[43m,\u001b[49m\u001b[43m \u001b[49m\n\u001b[0;32m      3\u001b[0m \u001b[43m                                                          \u001b[49m\u001b[43mfieldOfStudy_signup\u001b[49m\u001b[43m,\u001b[49m\u001b[43m \u001b[49m\u001b[43memail_signup\u001b[49m\u001b[43m,\u001b[49m\u001b[43m \u001b[49m\u001b[43mpassword_signup\u001b[49m\u001b[43m,\u001b[49m\u001b[43m \u001b[49m\u001b[43mrepeat_password_signup\u001b[49m\u001b[43m)\u001b[49m\u001b[43m)\u001b[49m\n\u001b[0;32m      4\u001b[0m db\u001b[38;5;241m.\u001b[39mcommit()\n",
      "File \u001b[1;32mc:\\Users\\simon\\anaconda3\\Lib\\site-packages\\pymysql\\cursors.py:151\u001b[0m, in \u001b[0;36mCursor.execute\u001b[1;34m(self, query, args)\u001b[0m\n\u001b[0;32m    148\u001b[0m \u001b[38;5;28;01mwhile\u001b[39;00m \u001b[38;5;28mself\u001b[39m\u001b[38;5;241m.\u001b[39mnextset():\n\u001b[0;32m    149\u001b[0m     \u001b[38;5;28;01mpass\u001b[39;00m\n\u001b[1;32m--> 151\u001b[0m query \u001b[38;5;241m=\u001b[39m \u001b[38;5;28;43mself\u001b[39;49m\u001b[38;5;241;43m.\u001b[39;49m\u001b[43mmogrify\u001b[49m\u001b[43m(\u001b[49m\u001b[43mquery\u001b[49m\u001b[43m,\u001b[49m\u001b[43m \u001b[49m\u001b[43margs\u001b[49m\u001b[43m)\u001b[49m\n\u001b[0;32m    153\u001b[0m result \u001b[38;5;241m=\u001b[39m \u001b[38;5;28mself\u001b[39m\u001b[38;5;241m.\u001b[39m_query(query)\n\u001b[0;32m    154\u001b[0m \u001b[38;5;28mself\u001b[39m\u001b[38;5;241m.\u001b[39m_executed \u001b[38;5;241m=\u001b[39m query\n",
      "File \u001b[1;32mc:\\Users\\simon\\anaconda3\\Lib\\site-packages\\pymysql\\cursors.py:129\u001b[0m, in \u001b[0;36mCursor.mogrify\u001b[1;34m(self, query, args)\u001b[0m\n\u001b[0;32m    126\u001b[0m conn \u001b[38;5;241m=\u001b[39m \u001b[38;5;28mself\u001b[39m\u001b[38;5;241m.\u001b[39m_get_db()\n\u001b[0;32m    128\u001b[0m \u001b[38;5;28;01mif\u001b[39;00m args \u001b[38;5;129;01mis\u001b[39;00m \u001b[38;5;129;01mnot\u001b[39;00m \u001b[38;5;28;01mNone\u001b[39;00m:\n\u001b[1;32m--> 129\u001b[0m     query \u001b[38;5;241m=\u001b[39m \u001b[43mquery\u001b[49m\u001b[43m \u001b[49m\u001b[38;5;241;43m%\u001b[39;49m\u001b[43m \u001b[49m\u001b[38;5;28;43mself\u001b[39;49m\u001b[38;5;241;43m.\u001b[39;49m\u001b[43m_escape_args\u001b[49m\u001b[43m(\u001b[49m\u001b[43margs\u001b[49m\u001b[43m,\u001b[49m\u001b[43m \u001b[49m\u001b[43mconn\u001b[49m\u001b[43m)\u001b[49m\n\u001b[0;32m    131\u001b[0m \u001b[38;5;28;01mreturn\u001b[39;00m query\n",
      "\u001b[1;31mTypeError\u001b[0m: %d format: a real number is required, not str"
     ]
    }
   ],
   "source": [
    "cur.execute('INSERT INTO INVESTORS (first_name, last_name, age, study, email, password, repeat_password) \\\n",
    "                        VALUES (%s, %s, %s, %s, %s, %s, %s)',(first_name_signup, last_name_signup, age_signup, \n",
    "                                                          fieldOfStudy_signup, email_signup, password_signup, repeat_password_signup))\n",
    "db.commit()"
   ]
  },
  {
   "cell_type": "code",
   "execution_count": 33,
   "id": "c2abf00e",
   "metadata": {},
   "outputs": [
    {
     "name": "stdout",
     "output_type": "stream",
     "text": [
      "(1, 'Simon', 'Lipperts', 20, 'Hirb', 'simon.lipperts20@gmail.com', 'C13', 'C13')\n"
     ]
    }
   ],
   "source": [
    "cur.execute('SELECT * FROM INVESTORS WHERE  \\\n",
    "                    first_name = %s AND last_name = %s AND \\\n",
    "                    age = %s AND study = %s AND email = %s AND \\\n",
    "                    password = %s AND repeat_password = %s', \\\n",
    "                        (first_name_signup, last_name_signup, int(age_signup), fieldOfStudy_signup, \\\n",
    "                        email_signup, password_signup, repeat_password_signup))\n",
    "\n",
    "for row in cur:\n",
    "    print(row)"
   ]
  },
  {
   "cell_type": "code",
   "execution_count": 37,
   "id": "8295c017",
   "metadata": {},
   "outputs": [],
   "source": [
    "cur.execute('''\n",
    "    ALTER TABLE INVESTORS \n",
    "    MODIFY COLUMN age VARCHAR(2),\n",
    "    MODIFY COLUMN first_name VARCHAR(15),\n",
    "    MODIFY COLUMN last_name VARCHAR(15),\n",
    "    MODIFY COLUMN study VARCHAR(50),\n",
    "    MODIFY COLUMN email VARCHAR(50)\n",
    "''')\n",
    "db.commit()"
   ]
  },
  {
   "cell_type": "code",
   "execution_count": 38,
   "id": "e65fa87d",
   "metadata": {},
   "outputs": [],
   "source": [
    "cur.execute('ALTER TABLE INVESTORS ADD COLUMN email_confirmed BOOLEAN DEFAULT FALSE')\n",
    "db.commit()"
   ]
  }
 ],
 "metadata": {
  "kernelspec": {
   "display_name": "base",
   "language": "python",
   "name": "python3"
  },
  "language_info": {
   "codemirror_mode": {
    "name": "ipython",
    "version": 3
   },
   "file_extension": ".py",
   "mimetype": "text/x-python",
   "name": "python",
   "nbconvert_exporter": "python",
   "pygments_lexer": "ipython3",
   "version": "3.12.4"
  }
 },
 "nbformat": 4,
 "nbformat_minor": 5
}
